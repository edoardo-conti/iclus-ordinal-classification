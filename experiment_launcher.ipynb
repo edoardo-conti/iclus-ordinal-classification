{
 "cells": [
  {
   "cell_type": "markdown",
   "metadata": {},
   "source": [
    "# OLD version (no longer fully compatible)"
   ]
  },
  {
   "cell_type": "markdown",
   "metadata": {},
   "source": [
    "# Requirements and imports"
   ]
  },
  {
   "cell_type": "code",
   "execution_count": null,
   "metadata": {},
   "outputs": [],
   "source": [
    "%pip install -q -r requirements/requirements_metal.txt"
   ]
  },
  {
   "cell_type": "markdown",
   "metadata": {},
   "source": [
    "# Setting up the experiment"
   ]
  },
  {
   "cell_type": "code",
   "execution_count": null,
   "metadata": {},
   "outputs": [],
   "source": [
    "from experiment import Experiment\n",
    "from experiment_sets import ExperimentSets \n",
    "\n",
    "# ============================ Settings ============================\n",
    "exps_json = 'exps/experiments.json'\n",
    "dataset_dir = 'dataset_tfrecords/'\n",
    "results_dir = 'results/'\n",
    "exp_idx = 1\n",
    "workers = 7\n",
    "shuffle_bsize = 10\n",
    "max_qsize = 10\n",
    "output_mode = (1,0)\n",
    "verbose = 1\n",
    "seed = 42\n",
    "\n",
    "# ======================== Experiment Sets =========================\n",
    "experiments_set = ExperimentSets(exps_json,\n",
    "                                 dataset_dir,\n",
    "                                 results_dir,\n",
    "                                 workers = workers,\n",
    "                                 shuffle_bsize = shuffle_bsize,\n",
    "                                 max_qsize = max_qsize,\n",
    "                                 verbose = verbose,\n",
    "                                 output_mode = output_mode,\n",
    "                                 seed = seed)\n",
    "\n",
    "set_config = experiments_set.build()\n",
    "\n",
    "# =========================== Experiment ===========================\n",
    "experiment = Experiment(experiments_set.exps[exp_idx],\n",
    "                        set_config)\n",
    "\n",
    "exp_name = experiment.build(False)\n",
    "\n",
    "print(f\"\\n◆ experiment {exp_name} loaded\")"
   ]
  },
  {
   "cell_type": "markdown",
   "metadata": {},
   "source": [
    "## Dataset splitting"
   ]
  },
  {
   "cell_type": "code",
   "execution_count": null,
   "metadata": {},
   "outputs": [],
   "source": [
    "experiment.split_dataset()"
   ]
  },
  {
   "cell_type": "code",
   "execution_count": null,
   "metadata": {},
   "outputs": [],
   "source": [
    "experiment.compute_class_weight()"
   ]
  },
  {
   "cell_type": "markdown",
   "metadata": {},
   "source": [
    "### Plot dataset charts"
   ]
  },
  {
   "cell_type": "code",
   "execution_count": null,
   "metadata": {},
   "outputs": [],
   "source": [
    "experiment.generate_split_charts()"
   ]
  },
  {
   "cell_type": "markdown",
   "metadata": {},
   "source": [
    "### Plot sample batches "
   ]
  },
  {
   "cell_type": "code",
   "execution_count": null,
   "metadata": {},
   "outputs": [],
   "source": [
    "# experiment.plot_set_batches('train', 5)"
   ]
  },
  {
   "cell_type": "code",
   "execution_count": null,
   "metadata": {},
   "outputs": [],
   "source": [
    "# experiment.plot_set_batches('val', 5)"
   ]
  },
  {
   "cell_type": "code",
   "execution_count": null,
   "metadata": {},
   "outputs": [],
   "source": [
    "# experiment.plot_set_batches('test', 5)"
   ]
  },
  {
   "cell_type": "markdown",
   "metadata": {},
   "source": [
    "# Neural Network Model"
   ]
  },
  {
   "cell_type": "code",
   "execution_count": null,
   "metadata": {},
   "outputs": [],
   "source": [
    "# model = experiment.build_model({'batch_size': 32, 'dropout': 0.3, 'learning_rate': 0.001})\n",
    "model = experiment.build_model({'batch_size': 32, 'dropout': 0.3, 'learning_rate': 0.001, 'hidden_size':6144})\n",
    "# model = experiment.build_model({'batch_size': 32, 'dropout': 0.3, 'learning_rate': 0.001, 'link_function':'cloglog', 'use_tau':True})"
   ]
  },
  {
   "cell_type": "code",
   "execution_count": null,
   "metadata": {},
   "outputs": [],
   "source": [
    "experiment.compile_model(model, 1e-4, summary=True)"
   ]
  },
  {
   "cell_type": "markdown",
   "metadata": {},
   "source": [
    "# Training Neural Network"
   ]
  },
  {
   "cell_type": "code",
   "execution_count": null,
   "metadata": {},
   "outputs": [],
   "source": [
    "history = experiment.nn_model_train(model, gradcam_freq=0)"
   ]
  },
  {
   "cell_type": "markdown",
   "metadata": {},
   "source": [
    "### Plot training graphs"
   ]
  },
  {
   "cell_type": "code",
   "execution_count": null,
   "metadata": {},
   "outputs": [],
   "source": [
    "experiment.nn_train_graphs(history)"
   ]
  },
  {
   "cell_type": "markdown",
   "metadata": {},
   "source": [
    "# Evaluate"
   ]
  },
  {
   "cell_type": "code",
   "execution_count": null,
   "metadata": {},
   "outputs": [],
   "source": [
    "experiment.nn_model_evaluate(model)"
   ]
  }
 ],
 "metadata": {
  "kernelspec": {
   "display_name": ".venv",
   "language": "python",
   "name": "python3"
  },
  "language_info": {
   "codemirror_mode": {
    "name": "ipython",
    "version": 3
   },
   "file_extension": ".py",
   "mimetype": "text/x-python",
   "name": "python",
   "nbconvert_exporter": "python",
   "pygments_lexer": "ipython3",
   "version": "3.11.0"
  }
 },
 "nbformat": 4,
 "nbformat_minor": 2
}
