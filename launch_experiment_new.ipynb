{
 "cells": [
  {
   "cell_type": "markdown",
   "metadata": {},
   "source": [
    "# Requirements and Imports"
   ]
  },
  {
   "cell_type": "code",
   "execution_count": 1,
   "metadata": {},
   "outputs": [
    {
     "name": "stdout",
     "output_type": "stream",
     "text": [
      "\n",
      "\u001b[1m[\u001b[0m\u001b[34;49mnotice\u001b[0m\u001b[1;39;49m]\u001b[0m\u001b[39;49m A new release of pip is available: \u001b[0m\u001b[31;49m23.3\u001b[0m\u001b[39;49m -> \u001b[0m\u001b[32;49m23.3.1\u001b[0m\n",
      "\u001b[1m[\u001b[0m\u001b[34;49mnotice\u001b[0m\u001b[1;39;49m]\u001b[0m\u001b[39;49m To update, run: \u001b[0m\u001b[32;49mpip install --upgrade pip\u001b[0m\n",
      "Note: you may need to restart the kernel to use updated packages.\n"
     ]
    }
   ],
   "source": [
    "%pip install --quiet -r requirements.txt"
   ]
  },
  {
   "cell_type": "markdown",
   "metadata": {},
   "source": [
    "# Setting up the experiment"
   ]
  },
  {
   "cell_type": "code",
   "execution_count": 2,
   "metadata": {},
   "outputs": [],
   "source": [
    "# TEMP WIP\n",
    "import matplotlib.pyplot as plt\n",
    "import seaborn as sns\n",
    "from metrics import np_quadratic_weighted_kappa, from_obdout_to_labels\n",
    "from sklearn.metrics import confusion_matrix"
   ]
  },
  {
   "cell_type": "code",
   "execution_count": 3,
   "metadata": {},
   "outputs": [
    {
     "name": "stdout",
     "output_type": "stream",
     "text": [
      "[experiment] GPU acceleration available.\n",
      "[dataset] 277 videos (58924 frames) loaded from cached data.\n"
     ]
    }
   ],
   "source": [
    "from experiment import Experiment\n",
    "\n",
    "# =============== Settings ===============\n",
    "seed = 42\n",
    "exps = 'exps/experiments.json'\n",
    "exp_idx = 0\n",
    "\n",
    "# ============== Experiment ==============\n",
    "experiment = Experiment(seed, exps, exp_idx)\n",
    "experiment.build()"
   ]
  },
  {
   "cell_type": "markdown",
   "metadata": {},
   "source": [
    "## Dataset Splitting"
   ]
  },
  {
   "cell_type": "code",
   "execution_count": 4,
   "metadata": {},
   "outputs": [
    {
     "name": "stdout",
     "output_type": "stream",
     "text": [
      "[dataset] dataset split: train=37182(63%), val=10010(17%), test=11732(20%)\n",
      "[dataset] dataset reduction: 15% (train=5577, val=1501, test=1759)\n"
     ]
    }
   ],
   "source": [
    "experiment.split_dataset()"
   ]
  },
  {
   "cell_type": "markdown",
   "metadata": {},
   "source": [
    "### Dataset Charts"
   ]
  },
  {
   "cell_type": "code",
   "execution_count": 5,
   "metadata": {},
   "outputs": [],
   "source": [
    "experiment.plot_split_charts([0, 0, 0])"
   ]
  },
  {
   "cell_type": "markdown",
   "metadata": {},
   "source": [
    "# Neural Network Model"
   ]
  },
  {
   "cell_type": "code",
   "execution_count": 6,
   "metadata": {},
   "outputs": [
    {
     "name": "stderr",
     "output_type": "stream",
     "text": [
      "2023-10-26 23:09:18.274751: I metal_plugin/src/device/metal_device.cc:1154] Metal device set to: Apple M1\n",
      "2023-10-26 23:09:18.274773: I metal_plugin/src/device/metal_device.cc:296] systemMemory: 8.00 GB\n",
      "2023-10-26 23:09:18.274776: I metal_plugin/src/device/metal_device.cc:313] maxCacheSize: 2.67 GB\n",
      "2023-10-26 23:09:18.274966: I tensorflow/core/common_runtime/pluggable_device/pluggable_device_factory.cc:306] Could not identify NUMA node of platform GPU ID 0, defaulting to 0. Your kernel may not have been built with NUMA support.\n",
      "2023-10-26 23:09:18.274982: I tensorflow/core/common_runtime/pluggable_device/pluggable_device_factory.cc:272] Created TensorFlow device (/job:localhost/replica:0/task:0/device:GPU:0 with 0 MB memory) -> physical PluggableDevice (device: 0, name: METAL, pci bus id: <undefined>)\n"
     ]
    }
   ],
   "source": [
    "model = experiment.nn_model()"
   ]
  },
  {
   "cell_type": "code",
   "execution_count": 7,
   "metadata": {},
   "outputs": [
    {
     "ename": "KeyError",
     "evalue": "'loss'",
     "output_type": "error",
     "traceback": [
      "\u001b[0;31m---------------------------------------------------------------------------\u001b[0m",
      "\u001b[0;31mKeyError\u001b[0m                                  Traceback (most recent call last)",
      "\u001b[1;32m/Users/edoardoconti/Tesi/us-ordinal-classification/launch_experiment new.ipynb Cella 12\u001b[0m line \u001b[0;36m1\n\u001b[0;32m----> <a href='vscode-notebook-cell:/Users/edoardoconti/Tesi/us-ordinal-classification/launch_experiment%20new.ipynb#X20sZmlsZQ%3D%3D?line=0'>1</a>\u001b[0m experiment\u001b[39m.\u001b[39;49mnn_model_compile(model)\n",
      "File \u001b[0;32m~/Tesi/us-ordinal-classification/experiment.py:170\u001b[0m, in \u001b[0;36mExperiment.nn_model_compile\u001b[0;34m(self, model, summary)\u001b[0m\n\u001b[1;32m    163\u001b[0m \u001b[39mdef\u001b[39;00m \u001b[39mnn_model_compile\u001b[39m(\u001b[39mself\u001b[39m, model, summary\u001b[39m=\u001b[39m\u001b[39mFalse\u001b[39;00m):\n\u001b[1;32m    164\u001b[0m \u001b[39m    \u001b[39m\u001b[39m'''\u001b[39;00m\n\u001b[1;32m    165\u001b[0m \u001b[39m    \"loss\": \"ODL\",\u001b[39;00m\n\u001b[1;32m    166\u001b[0m \u001b[39m    \"metrics\": [\"ccr\", \"accuracy_oneoff\", \"mae\", \"ms\"],\u001b[39;00m\n\u001b[1;32m    167\u001b[0m \u001b[39m    \"optimizer\": \"Adam\",\u001b[39;00m\n\u001b[1;32m    168\u001b[0m \u001b[39m    \"learning_rate\": 1e-3\u001b[39;00m\n\u001b[1;32m    169\u001b[0m \u001b[39m    '''\u001b[39;00m\n\u001b[0;32m--> 170\u001b[0m     loss \u001b[39m=\u001b[39m \u001b[39mself\u001b[39;49m\u001b[39m.\u001b[39;49msettings[\u001b[39m'\u001b[39;49m\u001b[39mloss\u001b[39;49m\u001b[39m'\u001b[39;49m]\n\u001b[1;32m    171\u001b[0m     metrics \u001b[39m=\u001b[39m \u001b[39mself\u001b[39m\u001b[39m.\u001b[39msettings[\u001b[39m'\u001b[39m\u001b[39mmetrics\u001b[39m\u001b[39m'\u001b[39m]\n\u001b[1;32m    172\u001b[0m     optimizer \u001b[39m=\u001b[39m \u001b[39mself\u001b[39m\u001b[39m.\u001b[39msettings[\u001b[39m'\u001b[39m\u001b[39moptimizer\u001b[39m\u001b[39m'\u001b[39m]\n",
      "\u001b[0;31mKeyError\u001b[0m: 'loss'"
     ]
    }
   ],
   "source": [
    "experiment.nn_model_compile(model)"
   ]
  },
  {
   "cell_type": "markdown",
   "metadata": {},
   "source": [
    "# Training Neural Network"
   ]
  },
  {
   "cell_type": "code",
   "execution_count": null,
   "metadata": {},
   "outputs": [],
   "source": [
    "history = experiment.nn_model_train(model)"
   ]
  },
  {
   "cell_type": "code",
   "execution_count": null,
   "metadata": {},
   "outputs": [],
   "source": [
    "# Plot Training loss\n",
    "plt.plot(history.history['loss'], label='train loss')\n",
    "plt.plot(history.history['val_loss'], label='val loss')\n",
    "plt.legend()\n",
    "plt.xlabel('epoch')\n",
    "plt.ylabel('QWK loss')\n",
    "plt.title('ResNet18-CLM for Ordinal Classification')\n",
    "plt.grid()\n",
    "plt.show"
   ]
  },
  {
   "cell_type": "code",
   "execution_count": null,
   "metadata": {},
   "outputs": [],
   "source": [
    "# Plot Training accuracy\n",
    "plt.plot(history.history['ccr'], label='train accuracy')\n",
    "plt.plot(history.history['val_ccr'], label='val accuracy')\n",
    "plt.legend()\n",
    "plt.xlabel('epoch')\n",
    "plt.ylabel('accuracy')\n",
    "plt.title('ResNet18-CLM for Ordinal Classification')\n",
    "plt.grid()\n",
    "plt.show"
   ]
  },
  {
   "cell_type": "markdown",
   "metadata": {},
   "source": [
    "# Evaluate"
   ]
  },
  {
   "cell_type": "code",
   "execution_count": null,
   "metadata": {},
   "outputs": [],
   "source": [
    "model.evaluate(experiment.test_ds)"
   ]
  },
  {
   "cell_type": "code",
   "execution_count": null,
   "metadata": {},
   "outputs": [],
   "source": [
    "y_test_pred = model.predict(experiment.test_ds)\n",
    "# y_test_pred = np.argmax(y_test_pred, axis=1) # extract classes from probabilities"
   ]
  },
  {
   "cell_type": "code",
   "execution_count": null,
   "metadata": {},
   "outputs": [],
   "source": [
    "y_test_pred = from_obdout_to_labels(y_test_pred)"
   ]
  },
  {
   "cell_type": "code",
   "execution_count": null,
   "metadata": {},
   "outputs": [],
   "source": [
    "# Test Set Confusion Matrix\n",
    "cf_matrix_test = confusion_matrix(y_test_ds, y_test_pred, normalize='true', labels=list(range(experiment.ds_num_classes)))\n",
    "\n",
    "ax = sns.heatmap(cf_matrix_test, linewidths=1, annot=True, fmt='.2f')\n",
    "ax.set_ylabel(f'Actual')\n",
    "ax.set_xlabel(f'Predicted')\n",
    "ax.set_title(f'Test Set Confusion Matrix')\n",
    "plt.show()"
   ]
  },
  {
   "cell_type": "code",
   "execution_count": null,
   "metadata": {},
   "outputs": [],
   "source": [
    "qwk_test = np_quadratic_weighted_kappa(y_test_ds, y_test_pred, 0, experiment.ds_num_classes - 1)\n",
    "\n",
    "print('QWK Test Set: {:.4f}'.format(qwk_test))"
   ]
  }
 ],
 "metadata": {
  "kernelspec": {
   "display_name": ".venv",
   "language": "python",
   "name": "python3"
  },
  "language_info": {
   "codemirror_mode": {
    "name": "ipython",
    "version": 3
   },
   "file_extension": ".py",
   "mimetype": "text/x-python",
   "name": "python",
   "nbconvert_exporter": "python",
   "pygments_lexer": "ipython3",
   "version": "3.11.0"
  }
 },
 "nbformat": 4,
 "nbformat_minor": 2
}
